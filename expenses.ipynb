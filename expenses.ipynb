{
 "cells": [
  {
   "cell_type": "markdown",
   "metadata": {},
   "source": [
    "## Categorise expenses"
   ]
  },
  {
   "cell_type": "code",
   "execution_count": 1,
   "metadata": {},
   "outputs": [],
   "source": [
    "import numpy as np\n",
    "import pandas as pd\n",
    "import matplotlib.pyplot as plt \n",
    "import json\n",
    "import os.path as path"
   ]
  },
  {
   "cell_type": "markdown",
   "metadata": {},
   "source": [
    "### Files format and content\n",
    "\n",
    "The following code was developed for Nationwide bank statements. It can be easily applied to other formats. Please make sure that the appropriate fields are changed. These parts are highlighted in the code.\n",
    "\n",
    "**dictionary_training.json**: dictionary trained with expenses from previous year. {'Expense_name': [False, ..., True,..., False]}, where True corresponds to the category of the expense;\n",
    "\n",
    "**expenses_train.csv**: contains the categorised expenses from the previous years. The first row is a comment, the second row is a list of the categories;\n",
    "\n",
    "**account.csv**: this is the current year account to be categorised. The first four rows contain information that irrelevant for the taks. The columns are \"Date,Transaction type,Description,Paid out,Paid in,Balance\";\n",
    "\n",
    "**sales.csv**: this files contains all the income entries for the year;\n",
    "\n",
    "**review_expenses.csv**: the expenses that were not categorised in the previous years will end up in this file. Please take the time to categorise them by hand and re-run the code so that these will be assigned correctly for next year;\n",
    "\n",
    "**total.csv**: this file contains both the sales and expenses combined in chronological order.\n",
    "\n",
    "Before running the script please make sure that the files 'dictionary_training.json' (if available) and 'expenses_train.csv' is in the folder where this code is being run. If these two files are not present, the code will run, but all the expenses will end up in the \"review_expenses.csv' file."
   ]
  },
  {
   "cell_type": "code",
   "execution_count": 2,
   "metadata": {},
   "outputs": [],
   "source": [
    "if path.exists(\"dictionary_training.json\") :   \n",
    "    with open('dictionary_training.json') as f: \n",
    "        data = f.read() \n",
    "    dic = json.loads(data) \n",
    "else:\n",
    "    dic = {}\n",
    "    \n",
    "if path.exists('expenses_train.csv'):\n",
    "    expenses = pd.read_csv('expenses_train.csv', skiprows=1, skip_blank_lines=True)\n",
    "else:\n",
    "    if len(dic) == 0:\n",
    "        print('No previous dictionary and no data to train a new one are available. The program will continue with no categorisation')\n",
    "    \n",
    "    \n",
    "for k,v in expenses.groupby('Description').groups.items():\n",
    "    dic[k] = expenses.iloc[v.values[0]].notna().tolist()  \n",
    "\n",
    "with open('dictionary_training.json', 'w') as d:\n",
    "    json.dump(dic, d)    "
   ]
  },
  {
   "cell_type": "code",
   "execution_count": 3,
   "metadata": {},
   "outputs": [],
   "source": [
    "#First income only\n",
    "account = pd.read_csv('account.csv', skiprows=4, skip_blank_lines=True)\n",
    "account = account.dropna(axis=0, how='all')\n",
    "#Drop the balance (not needed for the categorisation)\n",
    "account = account.drop('Balance', axis=1)\n",
    "account = pd.concat([account,pd.DataFrame(columns=expenses.columns[5:])])\n",
    "\n",
    "income = pd.DataFrame(columns=account.columns)\n",
    "income['Date'] = pd.to_datetime(income['Date'])\n",
    "for i in account.index.tolist():    \n",
    "    if pd.notnull(account.loc[i]['Paid in']):\n",
    "        income = income.append(account.loc[i])\n",
    "        account = account.drop(labels=i)\n",
    "#'Sales income' is one of the categories\n",
    "income['Sales income'] = income['Paid in']\n",
    "\n",
    "income[income.columns] = income[income.columns].replace({'£': ''}, regex=True)\n",
    "income.to_csv('sales.csv', index=False)"
   ]
  },
  {
   "cell_type": "code",
   "execution_count": 4,
   "metadata": {},
   "outputs": [],
   "source": [
    "#Categorise expenses\n",
    "review_expenses = pd.DataFrame(columns=account.columns)\n",
    "for i in range(account.shape[0]):    \n",
    "    if account.iloc[i]['Description'] in dic:\n",
    "        account.iloc[i,5:] = account.iloc[i,3]\n",
    "        for j in range(len(account.columns)):\n",
    "            account.iloc[i,j] = account.iloc[i,j] * dic[account.iloc[i]['Description']][j]\n",
    "    else:\n",
    "        review_expenses = review_expenses.append(account.iloc[i])\n",
    "account.to_csv('categorised_expenses.csv')"
   ]
  },
  {
   "cell_type": "code",
   "execution_count": 6,
   "metadata": {},
   "outputs": [],
   "source": [
    "#Combine expenses and sales\n",
    "total = pd.concat([income,account])\n",
    "total['Date'] = pd.to_datetime(total['Date'])\n",
    "total = total.sort_values(by=\"Date\")\n",
    "\n",
    "total[total.columns] = total[total.columns].replace({'£': ''}, regex=True)\n",
    "review_expenses[review_expenses.columns] = review_expenses[review_expenses.columns].replace({'£': ''}, regex=True)\n",
    "total.to_csv('total.csv', index=False)\n",
    "review_expenses.to_csv('review_expenses.csv', index=False)"
   ]
  }
 ],
 "metadata": {
  "kernelspec": {
   "display_name": "Python 3",
   "language": "python",
   "name": "python3"
  },
  "language_info": {
   "codemirror_mode": {
    "name": "ipython",
    "version": 3
   },
   "file_extension": ".py",
   "mimetype": "text/x-python",
   "name": "python",
   "nbconvert_exporter": "python",
   "pygments_lexer": "ipython3",
   "version": "3.9.2"
  }
 },
 "nbformat": 4,
 "nbformat_minor": 4
}
