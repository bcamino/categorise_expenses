{
 "cells": [
  {
   "cell_type": "markdown",
   "metadata": {},
   "source": [
    "## Categorise expenses"
   ]
  },
  {
   "cell_type": "code",
   "execution_count": 416,
   "metadata": {},
   "outputs": [],
   "source": [
    "import numpy as np\n",
    "import pandas as pd\n",
    "import matplotlib.pyplot as plt \n",
    "import json\n",
    "import os.path as path\n"
   ]
  },
  {
   "cell_type": "code",
   "execution_count": 425,
   "metadata": {},
   "outputs": [],
   "source": [
    "#This is the file used to categorise the expenses based on previous years ones.\n",
    "#If there is an available one that hasn't been processed yet please upload it to the folder\n",
    "#Classification based only on the description\n",
    "#First read one if it is present\n",
    "\n",
    "if path.exists(\"dictionary_training.json\") :   \n",
    "    with open('dictionary_training.json') as f: \n",
    "        data = f.read() \n",
    "    dic = json.loads(data) \n",
    "else:\n",
    "    dic = {}\n",
    "    \n",
    "if path.exists('expenses_train.csv'):\n",
    "    expenses = pd.read_csv('expenses_train.csv', skiprows=1, skip_blank_lines=True)\n",
    "else:\n",
    "    if len(dic) == 0:\n",
    "        print('No previous dictionary and no data to train a new one are available. The program will continue with no categorisation')\n",
    "    \n",
    "    \n",
    "for k,v in expenses.groupby('Description').groups.items():\n",
    "    dic[k] = expenses.iloc[v.values[0]].notna().tolist()  \n",
    "\n",
    "with open('dictionary_training.json', 'w') as d:\n",
    "    json.dump(dic, d)    "
   ]
  },
  {
   "cell_type": "code",
   "execution_count": 426,
   "metadata": {},
   "outputs": [],
   "source": [
    "#Income only\n",
    "account = pd.read_csv('account.csv', skiprows=4, skip_blank_lines=True)\n",
    "account = account.dropna(axis=0, how='all')\n",
    "account = account.drop('Balance', axis=1)\n",
    "account = pd.concat([account,pd.DataFrame(columns=expenses.columns[5:])])\n",
    "#account['Date'] = pd.to_datetime(account['Date'])\n",
    "\n",
    "income = pd.DataFrame(columns=account.columns)\n",
    "income['Date'] = pd.to_datetime(income['Date'])\n",
    "for i in account.index.tolist():    \n",
    "    if pd.notnull(account.loc[i]['Paid in']):\n",
    "        income = income.append(account.loc[i])\n",
    "        account = account.drop(labels=i)\n",
    "income['Sales income'] = income['Paid in']\n",
    "\n",
    "income[income.columns] = income[income.columns].replace({'£': ''}, regex=True)\n",
    "income.to_csv('sales.csv')"
   ]
  },
  {
   "cell_type": "code",
   "execution_count": 422,
   "metadata": {},
   "outputs": [],
   "source": [
    "account = pd.read_csv('account.csv', skiprows=4, skip_blank_lines=True)\n",
    "account = account.dropna(axis=0, how='all')\n",
    "account = account.drop('Balance', axis=1)\n",
    "account = pd.concat([account,pd.DataFrame(columns=expenses.columns[5:])])\n",
    "\n",
    "review_expenses = pd.DataFrame(columns=account.columns)\n",
    "for i in range(account.shape[0]):    \n",
    "    if account.iloc[i]['Description'] in dic:\n",
    "        account.iloc[i,5:] = account.iloc[i,3]\n",
    "        for j in range(len(account.columns)):\n",
    "            account.iloc[i,j] = account.iloc[i,j] * dic[account.iloc[i]['Description']][j]\n",
    "    else:\n",
    "        review_expenses = review_expenses.append(account.iloc[i])\n",
    "account.to_csv('categorised_expenses.csv')\n",
    "\n",
    "total = pd.concat([income,account])\n",
    "total['Date'] = pd.to_datetime(total['Date'])\n",
    "total = total.sort_values(by=\"Date\")\n",
    "\n",
    "total[total.columns] = total[total.columns].replace({'£': ''}, regex=True)\n",
    "review_expenses[review_expenses.columns] = review_expenses[review_expenses.columns].replace({'£': ''}, regex=True)\n",
    "total.to_csv('total.csv')\n",
    "review_expenses.to_csv('review_expenses.csv')"
   ]
  },
  {
   "cell_type": "markdown",
   "metadata": {},
   "source": [
    "After manually categorising the review_expenses.csv file please upload it as \"expenses_train.csv\" and run the whole code once more to include new categories into the dictionary."
   ]
  }
 ],
 "metadata": {
  "kernelspec": {
   "display_name": "Python 3",
   "language": "python",
   "name": "python3"
  },
  "language_info": {
   "codemirror_mode": {
    "name": "ipython",
    "version": 3
   },
   "file_extension": ".py",
   "mimetype": "text/x-python",
   "name": "python",
   "nbconvert_exporter": "python",
   "pygments_lexer": "ipython3",
   "version": "3.7.9"
  }
 },
 "nbformat": 4,
 "nbformat_minor": 4
}
